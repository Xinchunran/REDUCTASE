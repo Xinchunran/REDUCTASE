{
  "nbformat": 4,
  "nbformat_minor": 0,
  "metadata": {
    "colab": {
      "name": "Chem-5410-Lab3.ipynb",
      "provenance": [],
      "collapsed_sections": []
    },
    "kernelspec": {
      "name": "python3",
      "display_name": "Python 3"
    },
    "language_info": {
      "name": "python"
    }
  },
  "cells": [
    {
      "cell_type": "markdown",
      "source": [
        "# CHEM 5410 Lab 3: Automatic Gaussian Input File Construction\n",
        "In this lab, we will use **hydrogen halides ( H-X )** as an example to walk through a script that automatically prepares input files of **Gaussian optimization + frequency calculation** job ( coordinate part )."
      ],
      "metadata": {
        "id": "pEl1CLHJG53m"
      }
    },
    {
      "cell_type": "markdown",
      "source": [
        " ## Define Molecule\n",
        "What information do we need to defines a model of a molecule? This will be the input of our automatic workflow.\n",
        "\n",
        "Our target molecule H-X consists of two atoms, H and X. The information we need to define a model of such molecule is:\n",
        "\n",
        "\n",
        "1.   Which element is X\n",
        "\n",
        "\n"
      ],
      "metadata": {
        "id": "1mlM6ZshC5i5"
      }
    },
    {
      "cell_type": "code",
      "source": [
        "X_atom_list = ['F', 'Cl', 'Br', 'I']"
      ],
      "metadata": {
        "id": "1748mU56G0V2"
      },
      "execution_count": 1,
      "outputs": []
    },
    {
      "cell_type": "markdown",
      "source": [
        "2.   What are the charge and multiplicity"
      ],
      "metadata": {
        "id": "cL0KNoh9GyY4"
      }
    },
    {
      "cell_type": "code",
      "source": [
        "chrgspin = '0 1'"
      ],
      "metadata": {
        "id": "S9kozSOYG3Dq"
      },
      "execution_count": 2,
      "outputs": []
    },
    {
      "cell_type": "markdown",
      "source": [
        "3.   What is the coordinate of X relative to H\n",
        "(Here we use an empirical library from GaussView to determine the bond distance)"
      ],
      "metadata": {
        "id": "LPRnNtJOG86_"
      }
    },
    {
      "cell_type": "code",
      "source": [
        "bond_distance_lib = {'H': {'F': 0.88, 'Cl': 1.29, 'Br': 1.44, 'I': 1.63}}"
      ],
      "metadata": {
        "id": "hWKl0u-ZHAiu"
      },
      "execution_count": null,
      "outputs": []
    },
    {
      "cell_type": "markdown",
      "source": [
        "## File formatting\n",
        "Remember our introduction of the Gaussian input file format in Lab 2?\n",
        "We need to format the information of the molecule we define in a way that Gaussian reads.\n",
        "\n",
        "Essentially, we also need to define configurations of the Gaussian calculation. But we will not focus on them in the Lab 3. "
      ],
      "metadata": {
        "id": "FcxvhONPHY-P"
      }
    },
    {
      "cell_type": "code",
      "source": [
        "route_sec = '''%mem=8000MB\n",
        "%nprocshared=4\n",
        "# opt freq PBE1PBE/def2SVP em=gd3bj scrf(smd,solvent=water)\n",
        "'''\n",
        "Title = 'Title Card Required'\n",
        "line_feed = '\\n'\n"
      ],
      "metadata": {
        "id": "fLJ6tRDMJVGH"
      },
      "execution_count": null,
      "outputs": []
    },
    {
      "cell_type": "markdown",
      "source": [
        "Here we format the coordinate of our molecule and write the Gaussian input file for each H-X molecules."
      ],
      "metadata": {
        "id": "W7OPrJdbJU5H"
      }
    },
    {
      "cell_type": "code",
      "source": [
        "# coordinate of H\n",
        "coord_H = ['H', [0.0, 0.0, 0.0]]\n",
        "\n",
        "for X in X_atom_list:\n",
        "    \n",
        "    # generate coordinate for X\n",
        "    coord_X = #--TODO--#\n",
        "    coord = [coord_H, coord_X]\n",
        "\n",
        "    # Determine a filename\n",
        "    filename_X = 'H' + X + '-opt.gjf'\n",
        "    with open(filename_X, 'w') as of:\n",
        "        # write the file in the gjf format\n",
        "        # before the coordinate section\n",
        "        of.write(#--TODO--#)\n",
        "        # write coordinate line for each atom in the molecule\n",
        "        for coord_line in coord:\n",
        "            line = #--TODO--# + line_feed\n",
        "            of.write(line)"
      ],
      "metadata": {
        "id": "RhfGwGisGqAO"
      },
      "execution_count": null,
      "outputs": []
    },
    {
      "cell_type": "markdown",
      "source": [
        "Now we have our file generated under the colab directory. You can download it and check it out in GaussView and the text editor."
      ],
      "metadata": {
        "id": "6UDLqVfvLQpL"
      }
    }
  ]
}